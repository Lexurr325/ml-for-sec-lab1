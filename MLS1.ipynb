{
  "nbformat": 4,
  "nbformat_minor": 0,
  "metadata": {
    "colab": {
      "provenance": []
    },
    "kernelspec": {
      "name": "python3",
      "display_name": "Python 3"
    },
    "language_info": {
      "name": "python"
    }
  },
  "cells": [
    {
      "cell_type": "code",
      "execution_count": 154,
      "metadata": {
        "id": "z4YJ2xLNRKke"
      },
      "outputs": [],
      "source": [
        "import pandas as pd\n",
        "import numpy as np\n",
        "import seaborn as sns\n",
        "import matplotlib.pyplot as plt\n",
        "from sklearn.linear_model import LogisticRegression\n",
        "from sklearn.neighbors import KNeighborsClassifier\n",
        "from sklearn.tree import DecisionTreeClassifier\n",
        "from sklearn.ensemble import RandomForestClassifier\n",
        "from sklearn.pipeline import Pipeline\n",
        "from sklearn.preprocessing import StandardScaler"
      ]
    },
    {
      "cell_type": "code",
      "source": [
        "df = pd.read_csv('features_train.csv')\n",
        "cl = pd.read_csv('classes_train.csv')"
      ],
      "metadata": {
        "id": "ewySL7HLRfr8"
      },
      "execution_count": 155,
      "outputs": []
    },
    {
      "cell_type": "code",
      "source": [
        "df_clear = df.copy()\n",
        "df_clear['is_bot'] = pd.Series(cl['is_bot'], index = df_clear.index)\n",
        "df_clear.head()"
      ],
      "metadata": {
        "colab": {
          "base_uri": "https://localhost:8080/",
          "height": 299
        },
        "id": "SRqxiG6HrwsU",
        "outputId": "92630947-9510-4098-c833-0a0113660bfc"
      },
      "execution_count": 156,
      "outputs": [
        {
          "output_type": "execute_result",
          "data": {
            "text/plain": [
              "   statuses_count  followers_count  friends_count  favourites_count  \\\n",
              "0            5124             6641           3074             13768   \n",
              "1           10672             8465           1575              4561   \n",
              "2             704             3108            454              2400   \n",
              "3            6091           304528            526               599   \n",
              "4           12967            13693            204              1177   \n",
              "\n",
              "   listed_count  is_default_profile  is_profile_use_background_image  \\\n",
              "0           126                   0                                0   \n",
              "1           191                   0                                1   \n",
              "2            77                   0                                0   \n",
              "3          1515                   0                                1   \n",
              "4           452                   0                                1   \n",
              "\n",
              "   is_verified  user_age  tweets_freq  ...  friends_growth_rate  \\\n",
              "0            1      2711     1.890077  ...             1.133899   \n",
              "1            1      4424     2.412297  ...             0.356013   \n",
              "2            0      1358     0.518409  ...             0.334315   \n",
              "3            1      4214     1.445420  ...             0.124822   \n",
              "4            1      3200     4.052187  ...             0.063750   \n",
              "\n",
              "   favourites_growth_rate  listed_growth_rate  followers_friends_ratio  \\\n",
              "0                5.078569            0.046477                 2.160377   \n",
              "1                1.030967            0.043174                 5.374603   \n",
              "2                1.767305            0.056701                 6.845815   \n",
              "3                0.142145            0.359516               578.950570   \n",
              "4                0.367812            0.141250                67.122549   \n",
              "\n",
              "   screen_name_length  num_digits_in_screen_name  length_of_name  \\\n",
              "0                  12                          0              14   \n",
              "1                  11                          0              23   \n",
              "2                  12                          0              18   \n",
              "3                  10                          0              11   \n",
              "4                  13                          0              14   \n",
              "\n",
              "   num_digits_in_name  description_length  is_bot  \n",
              "0                   0                  73       0  \n",
              "1                   0                 142       0  \n",
              "2                   0                  90       0  \n",
              "3                   0                  51       0  \n",
              "4                   0                 106       0  \n",
              "\n",
              "[5 rows x 21 columns]"
            ],
            "text/html": [
              "\n",
              "  <div id=\"df-6dc0fc44-7248-41e0-bb32-98f063d17336\">\n",
              "    <div class=\"colab-df-container\">\n",
              "      <div>\n",
              "<style scoped>\n",
              "    .dataframe tbody tr th:only-of-type {\n",
              "        vertical-align: middle;\n",
              "    }\n",
              "\n",
              "    .dataframe tbody tr th {\n",
              "        vertical-align: top;\n",
              "    }\n",
              "\n",
              "    .dataframe thead th {\n",
              "        text-align: right;\n",
              "    }\n",
              "</style>\n",
              "<table border=\"1\" class=\"dataframe\">\n",
              "  <thead>\n",
              "    <tr style=\"text-align: right;\">\n",
              "      <th></th>\n",
              "      <th>statuses_count</th>\n",
              "      <th>followers_count</th>\n",
              "      <th>friends_count</th>\n",
              "      <th>favourites_count</th>\n",
              "      <th>listed_count</th>\n",
              "      <th>is_default_profile</th>\n",
              "      <th>is_profile_use_background_image</th>\n",
              "      <th>is_verified</th>\n",
              "      <th>user_age</th>\n",
              "      <th>tweets_freq</th>\n",
              "      <th>...</th>\n",
              "      <th>friends_growth_rate</th>\n",
              "      <th>favourites_growth_rate</th>\n",
              "      <th>listed_growth_rate</th>\n",
              "      <th>followers_friends_ratio</th>\n",
              "      <th>screen_name_length</th>\n",
              "      <th>num_digits_in_screen_name</th>\n",
              "      <th>length_of_name</th>\n",
              "      <th>num_digits_in_name</th>\n",
              "      <th>description_length</th>\n",
              "      <th>is_bot</th>\n",
              "    </tr>\n",
              "  </thead>\n",
              "  <tbody>\n",
              "    <tr>\n",
              "      <th>0</th>\n",
              "      <td>5124</td>\n",
              "      <td>6641</td>\n",
              "      <td>3074</td>\n",
              "      <td>13768</td>\n",
              "      <td>126</td>\n",
              "      <td>0</td>\n",
              "      <td>0</td>\n",
              "      <td>1</td>\n",
              "      <td>2711</td>\n",
              "      <td>1.890077</td>\n",
              "      <td>...</td>\n",
              "      <td>1.133899</td>\n",
              "      <td>5.078569</td>\n",
              "      <td>0.046477</td>\n",
              "      <td>2.160377</td>\n",
              "      <td>12</td>\n",
              "      <td>0</td>\n",
              "      <td>14</td>\n",
              "      <td>0</td>\n",
              "      <td>73</td>\n",
              "      <td>0</td>\n",
              "    </tr>\n",
              "    <tr>\n",
              "      <th>1</th>\n",
              "      <td>10672</td>\n",
              "      <td>8465</td>\n",
              "      <td>1575</td>\n",
              "      <td>4561</td>\n",
              "      <td>191</td>\n",
              "      <td>0</td>\n",
              "      <td>1</td>\n",
              "      <td>1</td>\n",
              "      <td>4424</td>\n",
              "      <td>2.412297</td>\n",
              "      <td>...</td>\n",
              "      <td>0.356013</td>\n",
              "      <td>1.030967</td>\n",
              "      <td>0.043174</td>\n",
              "      <td>5.374603</td>\n",
              "      <td>11</td>\n",
              "      <td>0</td>\n",
              "      <td>23</td>\n",
              "      <td>0</td>\n",
              "      <td>142</td>\n",
              "      <td>0</td>\n",
              "    </tr>\n",
              "    <tr>\n",
              "      <th>2</th>\n",
              "      <td>704</td>\n",
              "      <td>3108</td>\n",
              "      <td>454</td>\n",
              "      <td>2400</td>\n",
              "      <td>77</td>\n",
              "      <td>0</td>\n",
              "      <td>0</td>\n",
              "      <td>0</td>\n",
              "      <td>1358</td>\n",
              "      <td>0.518409</td>\n",
              "      <td>...</td>\n",
              "      <td>0.334315</td>\n",
              "      <td>1.767305</td>\n",
              "      <td>0.056701</td>\n",
              "      <td>6.845815</td>\n",
              "      <td>12</td>\n",
              "      <td>0</td>\n",
              "      <td>18</td>\n",
              "      <td>0</td>\n",
              "      <td>90</td>\n",
              "      <td>0</td>\n",
              "    </tr>\n",
              "    <tr>\n",
              "      <th>3</th>\n",
              "      <td>6091</td>\n",
              "      <td>304528</td>\n",
              "      <td>526</td>\n",
              "      <td>599</td>\n",
              "      <td>1515</td>\n",
              "      <td>0</td>\n",
              "      <td>1</td>\n",
              "      <td>1</td>\n",
              "      <td>4214</td>\n",
              "      <td>1.445420</td>\n",
              "      <td>...</td>\n",
              "      <td>0.124822</td>\n",
              "      <td>0.142145</td>\n",
              "      <td>0.359516</td>\n",
              "      <td>578.950570</td>\n",
              "      <td>10</td>\n",
              "      <td>0</td>\n",
              "      <td>11</td>\n",
              "      <td>0</td>\n",
              "      <td>51</td>\n",
              "      <td>0</td>\n",
              "    </tr>\n",
              "    <tr>\n",
              "      <th>4</th>\n",
              "      <td>12967</td>\n",
              "      <td>13693</td>\n",
              "      <td>204</td>\n",
              "      <td>1177</td>\n",
              "      <td>452</td>\n",
              "      <td>0</td>\n",
              "      <td>1</td>\n",
              "      <td>1</td>\n",
              "      <td>3200</td>\n",
              "      <td>4.052187</td>\n",
              "      <td>...</td>\n",
              "      <td>0.063750</td>\n",
              "      <td>0.367812</td>\n",
              "      <td>0.141250</td>\n",
              "      <td>67.122549</td>\n",
              "      <td>13</td>\n",
              "      <td>0</td>\n",
              "      <td>14</td>\n",
              "      <td>0</td>\n",
              "      <td>106</td>\n",
              "      <td>0</td>\n",
              "    </tr>\n",
              "  </tbody>\n",
              "</table>\n",
              "<p>5 rows × 21 columns</p>\n",
              "</div>\n",
              "      <button class=\"colab-df-convert\" onclick=\"convertToInteractive('df-6dc0fc44-7248-41e0-bb32-98f063d17336')\"\n",
              "              title=\"Convert this dataframe to an interactive table.\"\n",
              "              style=\"display:none;\">\n",
              "        \n",
              "  <svg xmlns=\"http://www.w3.org/2000/svg\" height=\"24px\"viewBox=\"0 0 24 24\"\n",
              "       width=\"24px\">\n",
              "    <path d=\"M0 0h24v24H0V0z\" fill=\"none\"/>\n",
              "    <path d=\"M18.56 5.44l.94 2.06.94-2.06 2.06-.94-2.06-.94-.94-2.06-.94 2.06-2.06.94zm-11 1L8.5 8.5l.94-2.06 2.06-.94-2.06-.94L8.5 2.5l-.94 2.06-2.06.94zm10 10l.94 2.06.94-2.06 2.06-.94-2.06-.94-.94-2.06-.94 2.06-2.06.94z\"/><path d=\"M17.41 7.96l-1.37-1.37c-.4-.4-.92-.59-1.43-.59-.52 0-1.04.2-1.43.59L10.3 9.45l-7.72 7.72c-.78.78-.78 2.05 0 2.83L4 21.41c.39.39.9.59 1.41.59.51 0 1.02-.2 1.41-.59l7.78-7.78 2.81-2.81c.8-.78.8-2.07 0-2.86zM5.41 20L4 18.59l7.72-7.72 1.47 1.35L5.41 20z\"/>\n",
              "  </svg>\n",
              "      </button>\n",
              "      \n",
              "  <style>\n",
              "    .colab-df-container {\n",
              "      display:flex;\n",
              "      flex-wrap:wrap;\n",
              "      gap: 12px;\n",
              "    }\n",
              "\n",
              "    .colab-df-convert {\n",
              "      background-color: #E8F0FE;\n",
              "      border: none;\n",
              "      border-radius: 50%;\n",
              "      cursor: pointer;\n",
              "      display: none;\n",
              "      fill: #1967D2;\n",
              "      height: 32px;\n",
              "      padding: 0 0 0 0;\n",
              "      width: 32px;\n",
              "    }\n",
              "\n",
              "    .colab-df-convert:hover {\n",
              "      background-color: #E2EBFA;\n",
              "      box-shadow: 0px 1px 2px rgba(60, 64, 67, 0.3), 0px 1px 3px 1px rgba(60, 64, 67, 0.15);\n",
              "      fill: #174EA6;\n",
              "    }\n",
              "\n",
              "    [theme=dark] .colab-df-convert {\n",
              "      background-color: #3B4455;\n",
              "      fill: #D2E3FC;\n",
              "    }\n",
              "\n",
              "    [theme=dark] .colab-df-convert:hover {\n",
              "      background-color: #434B5C;\n",
              "      box-shadow: 0px 1px 3px 1px rgba(0, 0, 0, 0.15);\n",
              "      filter: drop-shadow(0px 1px 2px rgba(0, 0, 0, 0.3));\n",
              "      fill: #FFFFFF;\n",
              "    }\n",
              "  </style>\n",
              "\n",
              "      <script>\n",
              "        const buttonEl =\n",
              "          document.querySelector('#df-6dc0fc44-7248-41e0-bb32-98f063d17336 button.colab-df-convert');\n",
              "        buttonEl.style.display =\n",
              "          google.colab.kernel.accessAllowed ? 'block' : 'none';\n",
              "\n",
              "        async function convertToInteractive(key) {\n",
              "          const element = document.querySelector('#df-6dc0fc44-7248-41e0-bb32-98f063d17336');\n",
              "          const dataTable =\n",
              "            await google.colab.kernel.invokeFunction('convertToInteractive',\n",
              "                                                     [key], {});\n",
              "          if (!dataTable) return;\n",
              "\n",
              "          const docLinkHtml = 'Like what you see? Visit the ' +\n",
              "            '<a target=\"_blank\" href=https://colab.research.google.com/notebooks/data_table.ipynb>data table notebook</a>'\n",
              "            + ' to learn more about interactive tables.';\n",
              "          element.innerHTML = '';\n",
              "          dataTable['output_type'] = 'display_data';\n",
              "          await google.colab.output.renderOutput(dataTable, element);\n",
              "          const docLink = document.createElement('div');\n",
              "          docLink.innerHTML = docLinkHtml;\n",
              "          element.appendChild(docLink);\n",
              "        }\n",
              "      </script>\n",
              "    </div>\n",
              "  </div>\n",
              "  "
            ]
          },
          "metadata": {},
          "execution_count": 156
        }
      ]
    },
    {
      "cell_type": "code",
      "source": [
        "# Визуализация \n",
        "fig, ax = plt.subplots(figsize=(10,10))\n",
        "sns.heatmap(df_clear.corr(), cmap = \"mako\")"
      ],
      "metadata": {
        "colab": {
          "base_uri": "https://localhost:8080/",
          "height": 770
        },
        "id": "TkQqrbVjr0Qz",
        "outputId": "3f5aed7a-b830-48aa-8db0-e4adc9471a6e"
      },
      "execution_count": 157,
      "outputs": [
        {
          "output_type": "execute_result",
          "data": {
            "text/plain": [
              "<matplotlib.axes._subplots.AxesSubplot at 0x7f76a81142b0>"
            ]
          },
          "metadata": {},
          "execution_count": 157
        },
        {
          "output_type": "display_data",
          "data": {
            "text/plain": [
              "<Figure size 720x720 with 2 Axes>"
            ],
            "image/png": "[encoded data removed]"
          },
          "metadata": {
            "needs_background": "light"
          }
        }
      ]
    },
    {
      "cell_type": "code",
      "source": [
        "# Подготовка данных\n",
        "X = df_clear.drop('is_bot', axis = 1)\n",
        "Y = df_clear.is_bot\n",
        "X_train, X_test, Y_train, Y_test = train_test_split(X, Y, test_size = 0.25, random_state = 21)"
      ],
      "metadata": {
        "id": "Pqt_tjByr5iO"
      },
      "execution_count": 158,
      "outputs": []
    },
    {
      "cell_type": "markdown",
      "source": [
        "1.1 Обучить модель без каких-либо дополнительных условий, которая должна наилучшим образом отработать на тестовой выборке преподавателя с точки зрения F-меры"
      ],
      "metadata": {
        "id": "w57xn2wAsCSQ"
      }
    },
    {
      "cell_type": "code",
      "source": [
        "# для сравнения значений F-меры\n",
        "F_measure = {'LogisticRegression':0, \n",
        "             'KNeighborsClassifier':0, \n",
        "             'DecisionTreeClassifier':0,\n",
        "             'RandomForestClassifier':0 }"
      ],
      "metadata": {
        "id": "EITsRCMtsQc_"
      },
      "execution_count": 159,
      "outputs": []
    },
    {
      "cell_type": "code",
      "source": [
        "# LogisticRegression\n",
        "Log = LogisticRegression()\n",
        "scaler = StandardScaler()\n",
        "X_train_M = scaler.fit_transform(X_train)\n",
        "X_test_M = scaler.transform(X_test)\n",
        "\n",
        "\n",
        "model_Log = LogisticRegression()   \n",
        "model_Log.fit(X_train_M, Y_train)\n",
        "Y_Log = model_Log.predict(X_test_M)\n",
        "\n",
        "F_measure['LogisticRegression'] = f1_score(Y_test, Y_Log, average = \"weighted\")"
      ],
      "metadata": {
        "id": "95ZP2KQzsRnY"
      },
      "execution_count": 160,
      "outputs": []
    },
    {
      "cell_type": "code",
      "source": [
        "# KNeighborsClassifier\n",
        "KNN = KNeighborsClassifier()\n",
        "scaler = StandardScaler()\n",
        "steps_KNN = [('normalizer', scaler), ('KNN', KNN)]\n",
        "pipe_KNN = Pipeline(steps_KNN)\n",
        "\n",
        "model_KNN = KNeighborsClassifier()\n",
        "model_KNN.fit(X_train, Y_train)\n",
        "Y_KNN = model_KNN.predict(X_test)\n",
        "\n",
        "F_measure['KNeighborsClassifier'] = f1_score(Y_test, Y_KNN, average = \"weighted\")"
      ],
      "metadata": {
        "id": "tVp95irEsU9u"
      },
      "execution_count": 161,
      "outputs": []
    },
    {
      "cell_type": "code",
      "source": [
        "# DecisionTreeClassifier\n",
        "DTC = DecisionTreeClassifier()\n",
        "scaler = StandardScaler()\n",
        "steps_DTC = [('normalizer', scaler), ('DTC', DTC)]\n",
        "pipe_DTC = Pipeline(steps_DTC)\n",
        "\n",
        "model_DTC = DecisionTreeClassifier()\n",
        "model_DTC.fit(X_train, Y_train)\n",
        "Y_DTC = model_DTC.predict(X_test)\n",
        "\n",
        "F_measure['DecisionTreeClassifier'] = f1_score(Y_test, Y_DTC, average = \"weighted\")"
      ],
      "metadata": {
        "id": "vsYv0s3WsfwL"
      },
      "execution_count": 162,
      "outputs": []
    },
    {
      "cell_type": "code",
      "source": [
        "# RandomForestClassifier\n",
        "RFC = RandomForestClassifier()\n",
        "scaler = StandardScaler()\n",
        "steps_RFC = [('normalizer', scaler), ('RFC', RFC)]\n",
        "pipe_RFC = Pipeline(steps_RFC)\n",
        "\n",
        "model_RFC = RandomForestClassifier()\n",
        "model_RFC.fit(X_train, Y_train)\n",
        "Y_RFC = model_RFC.predict(X_test)\n",
        "\n",
        "F_measure['RandomForestClassifier'] = f1_score(Y_test, Y_RFC, average = \"weighted\")"
      ],
      "metadata": {
        "id": "rtEt6rxBsl9q"
      },
      "execution_count": 163,
      "outputs": []
    },
    {
      "cell_type": "code",
      "source": [
        "best_f = 0\n",
        "\n",
        "for i, j in F_measure.items():\n",
        "    print ( 'F-мера:', j,'Модель:', i)\n",
        "    if j > best_f:\n",
        "        best_f = j\n",
        "        best_f_model = i\n",
        "print ('Лучшая модель:', best_f_model)"
      ],
      "metadata": {
        "colab": {
          "base_uri": "https://localhost:8080/"
        },
        "id": "Tn_3uK-Ssrqm",
        "outputId": "07220c1f-25e2-4d55-a2c7-fceefa034924"
      },
      "execution_count": 164,
      "outputs": [
        {
          "output_type": "stream",
          "name": "stdout",
          "text": [
            "F-мера: 0.9966666666666667 Модель: LogisticRegression\n",
            "F-мера: 0.9798202354201699 Модель: KNeighborsClassifier\n",
            "F-мера: 0.9950158543362426 Модель: DecisionTreeClassifier\n",
            "F-мера: 0.9983315321915928 Модель: RandomForestClassifier\n",
            "Лучшая модель: RandomForestClassifier\n"
          ]
        }
      ]
    },
    {
      "cell_type": "code",
      "source": [
        "# Сохранение модели\n",
        "joblib.dump(model_Log, 'lg_model.pkl')"
      ],
      "metadata": {
        "colab": {
          "base_uri": "https://localhost:8080/"
        },
        "id": "L0-caLbGstCz",
        "outputId": "0b396092-aa3b-44e3-cb83-d1b14e10a896"
      },
      "execution_count": 165,
      "outputs": [
        {
          "output_type": "execute_result",
          "data": {
            "text/plain": [
              "['lg_model.pkl']"
            ]
          },
          "metadata": {},
          "execution_count": 165
        }
      ]
    }
  ]
}